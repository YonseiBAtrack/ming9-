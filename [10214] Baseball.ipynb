{
 "cells": [
  {
   "cell_type": "code",
   "execution_count": null,
   "id": "6532f546",
   "metadata": {},
   "outputs": [],
   "source": [
    "T = int(input())\n",
    "for _ in range(T):\n",
    "    Y = K = 0\n",
    "    \n",
    "    for _ in range(9):\n",
    "        y, k = map(int, input().split())\n",
    "        Y += y\n",
    "        K += k\n",
    "    \n",
    "    if Y > K:\n",
    "        print('Yonsei')\n",
    "    elif Y < K:\n",
    "        print('Korea')\n",
    "    else:\n",
    "        print(\"Draw\")"
   ]
  }
 ],
 "metadata": {
  "kernelspec": {
   "display_name": "Python 3 (ipykernel)",
   "language": "python",
   "name": "python3"
  },
  "language_info": {
   "codemirror_mode": {
    "name": "ipython",
    "version": 3
   },
   "file_extension": ".py",
   "mimetype": "text/x-python",
   "name": "python",
   "nbconvert_exporter": "python",
   "pygments_lexer": "ipython3",
   "version": "3.9.7"
  }
 },
 "nbformat": 4,
 "nbformat_minor": 5
}
